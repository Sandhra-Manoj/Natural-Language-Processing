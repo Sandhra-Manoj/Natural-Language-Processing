{
 "cells": [
  {
   "cell_type": "markdown",
   "id": "39fe7eea",
   "metadata": {
    "id": "39fe7eea"
   },
   "source": [
    "# WordNet"
   ]
  },
  {
   "cell_type": "markdown",
   "id": "1d5c516a",
   "metadata": {
    "id": "1d5c516a"
   },
   "source": [
    "Wordnet is a lexical database for the English language. Wordnet is a part of the NLTK corpus. We can use Wordnet to find meanings of words, synonyms, antonyms, and many other words."
   ]
  },
  {
   "cell_type": "markdown",
   "id": "668f6da5",
   "metadata": {
    "id": "668f6da5"
   },
   "source": [
    "### We can check how many different definitions of a word are available in Wordnet."
   ]
  },
  {
   "cell_type": "code",
   "execution_count": 1,
   "id": "ba0f6e2b",
   "metadata": {
    "id": "ba0f6e2b",
    "outputId": "ca25dcf1-db8e-4718-f6dd-d93c30ad1f6a"
   },
   "outputs": [
    {
     "name": "stdout",
     "output_type": "stream",
     "text": [
      "Synset('fun.n.01')\n",
      "Synset('fun.n.02')\n",
      "Synset('fun.n.03')\n",
      "Synset('playfulness.n.02')\n"
     ]
    }
   ],
   "source": [
    "from nltk.corpus import wordnet\n",
    "\n",
    "for words in wordnet.synsets(\"Fun\"):\n",
    "    print(words)"
   ]
  },
  {
   "cell_type": "markdown",
   "id": "c544fef7",
   "metadata": {
    "id": "c544fef7"
   },
   "source": [
    "### We can also check the meaning of those different definitions."
   ]
  },
  {
   "cell_type": "code",
   "execution_count": 2,
   "id": "63258e2b",
   "metadata": {
    "id": "63258e2b",
    "outputId": "7487b498-3ef2-4c3c-a138-bb53d1d3a313"
   },
   "outputs": [
    {
     "name": "stdout",
     "output_type": "stream",
     "text": [
      "Lemma('fun.n.01.fun')\n",
      "Lemma('fun.n.01.merriment')\n",
      "Lemma('fun.n.01.playfulness')\n",
      "\n",
      "\n",
      "Lemma('fun.n.02.fun')\n",
      "Lemma('fun.n.02.play')\n",
      "Lemma('fun.n.02.sport')\n",
      "\n",
      "\n",
      "Lemma('fun.n.03.fun')\n",
      "\n",
      "\n",
      "Lemma('playfulness.n.02.playfulness')\n",
      "Lemma('playfulness.n.02.fun')\n",
      "\n",
      "\n"
     ]
    }
   ],
   "source": [
    "for words in wordnet.synsets(\"Fun\"):\n",
    "    for lemma in words.lemmas():\n",
    "        print(lemma)\n",
    "    print(\"\\n\")"
   ]
  },
  {
   "cell_type": "markdown",
   "id": "fa0f742b",
   "metadata": {
    "id": "fa0f742b"
   },
   "source": [
    "###  All details for a word."
   ]
  },
  {
   "cell_type": "code",
   "execution_count": 3,
   "id": "58e01fbd",
   "metadata": {
    "id": "58e01fbd",
    "outputId": "696de670-78cc-411a-8213-35016c293ad9"
   },
   "outputs": [
    {
     "name": "stdout",
     "output_type": "stream",
     "text": [
      "play.n.01\n",
      "a dramatic work intended for performance by actors on a stage\n",
      "['he wrote several plays but only one was produced on Broadway']\n"
     ]
    }
   ],
   "source": [
    "word = wordnet.synsets(\"Play\")[0]\n",
    "\n",
    "#checking wordname\n",
    "print(word.name())\n",
    "\n",
    "#checking defnition:\n",
    "print(word.definition())\n",
    "\n",
    "#checking examples:\n",
    "print(word.examples())"
   ]
  },
  {
   "cell_type": "markdown",
   "id": "01e30064",
   "metadata": {
    "id": "01e30064"
   },
   "source": [
    "### All details for all meanings of a word."
   ]
  },
  {
   "cell_type": "code",
   "execution_count": 4,
   "id": "ed5d9011",
   "metadata": {
    "id": "ed5d9011",
    "outputId": "f32fe6bf-8c47-43a2-86e0-696db879a70a"
   },
   "outputs": [
    {
     "name": "stdout",
     "output_type": "stream",
     "text": [
      "<bound method Synset.name of Synset('fun.n.01')>\n",
      "<bound method Synset.definition of Synset('fun.n.01')>\n",
      "['I do it for the fun of it', 'he is fun to have around']\n",
      "Lemma('fun.n.01.fun')\n",
      "Lemma('fun.n.01.merriment')\n",
      "Lemma('fun.n.01.playfulness')\n",
      "\n",
      "\n",
      "<bound method Synset.name of Synset('fun.n.02')>\n",
      "<bound method Synset.definition of Synset('fun.n.02')>\n",
      "['he became a figure of fun', 'he said it in sport']\n",
      "Lemma('fun.n.02.fun')\n",
      "Lemma('fun.n.02.play')\n",
      "Lemma('fun.n.02.sport')\n",
      "\n",
      "\n",
      "<bound method Synset.name of Synset('fun.n.03')>\n",
      "<bound method Synset.definition of Synset('fun.n.03')>\n",
      "['she asked for money and then the fun began', 'they began to fight like fun']\n",
      "Lemma('fun.n.03.fun')\n",
      "\n",
      "\n",
      "<bound method Synset.name of Synset('playfulness.n.02')>\n",
      "<bound method Synset.definition of Synset('playfulness.n.02')>\n",
      "['her playfulness surprised me', 'he was fun to be with']\n",
      "Lemma('playfulness.n.02.playfulness')\n",
      "Lemma('playfulness.n.02.fun')\n",
      "\n",
      "\n"
     ]
    }
   ],
   "source": [
    "for words in wordnet.synsets(\"Fun\"):\n",
    "    print(words.name)\n",
    "    print(words.definition)\n",
    "    print(words.examples())\n",
    "\n",
    "    for lemma in words.lemmas():\n",
    "        print(lemma)\n",
    "    print('\\n')"
   ]
  },
  {
   "cell_type": "markdown",
   "id": "0a6161cd",
   "metadata": {
    "id": "0a6161cd"
   },
   "source": [
    "### Hypernyms: Hypernyms gives us a more abstract term for a word."
   ]
  },
  {
   "cell_type": "code",
   "execution_count": 5,
   "id": "a36d85cc",
   "metadata": {
    "id": "a36d85cc",
    "outputId": "f84c470f-38ef-4647-c23c-89a66a75c4bc"
   },
   "outputs": [
    {
     "name": "stdout",
     "output_type": "stream",
     "text": [
      "[Synset('dramatic_composition.n.01')]\n"
     ]
    }
   ],
   "source": [
    "word = wordnet.synsets(\"Play\")[0]\n",
    "\n",
    "#find more abstract term\n",
    "print(word.hypernyms())"
   ]
  },
  {
   "cell_type": "markdown",
   "id": "321c491d",
   "metadata": {
    "id": "321c491d"
   },
   "source": [
    "### Hyponyms: Hyponyms gives us a more specific term for a word."
   ]
  },
  {
   "cell_type": "code",
   "execution_count": 6,
   "id": "484bc782",
   "metadata": {
    "id": "484bc782",
    "outputId": "84de1f35-d6f2-48f8-a3d9-1c4ec8809c4f"
   },
   "outputs": [
    {
     "data": {
      "text/plain": [
       "[Synset('grand_guignol.n.01'),\n",
       " Synset('miracle_play.n.01'),\n",
       " Synset('morality_play.n.01'),\n",
       " Synset('mystery_play.n.01'),\n",
       " Synset('passion_play.n.01'),\n",
       " Synset('playlet.n.01'),\n",
       " Synset('satyr_play.n.01'),\n",
       " Synset('theater_of_the_absurd.n.01')]"
      ]
     },
     "execution_count": 6,
     "metadata": {},
     "output_type": "execute_result"
    }
   ],
   "source": [
    "word = wordnet.synsets(\"Play\")[0]\n",
    "#find more specific term\n",
    "word.hyponyms()"
   ]
  },
  {
   "cell_type": "markdown",
   "id": "df14b321",
   "metadata": {
    "id": "df14b321"
   },
   "source": [
    "### Get a name only."
   ]
  },
  {
   "cell_type": "code",
   "execution_count": 7,
   "id": "0ddaec61",
   "metadata": {
    "id": "0ddaec61",
    "outputId": "eb4d464c-6fb6-453c-c918-185a6cc0fc25"
   },
   "outputs": [
    {
     "name": "stdout",
     "output_type": "stream",
     "text": [
      "play\n"
     ]
    }
   ],
   "source": [
    "word = wordnet.synsets(\"Play\")[0]\n",
    "\n",
    "print(word.lemmas()[0].name())"
   ]
  },
  {
   "cell_type": "markdown",
   "id": "fbd0d2c6",
   "metadata": {
    "id": "fbd0d2c6"
   },
   "source": [
    "### Synonyms"
   ]
  },
  {
   "cell_type": "code",
   "execution_count": 8,
   "id": "4bc86338",
   "metadata": {
    "id": "4bc86338",
    "outputId": "331c484e-4d4b-4598-94a9-44e09d8b0106"
   },
   "outputs": [
    {
     "data": {
      "text/plain": [
       "['fun',\n",
       " 'merriment',\n",
       " 'playfulness',\n",
       " 'fun',\n",
       " 'play',\n",
       " 'sport',\n",
       " 'fun',\n",
       " 'playfulness',\n",
       " 'fun']"
      ]
     },
     "execution_count": 8,
     "metadata": {},
     "output_type": "execute_result"
    }
   ],
   "source": [
    "synonyms = []\n",
    "for words in wordnet.synsets(\"Fun\"):\n",
    "    for lemma in words.lemmas():\n",
    "        synonyms.append(lemma.name())\n",
    "\n",
    "synonyms"
   ]
  },
  {
   "cell_type": "markdown",
   "id": "5a0151ee",
   "metadata": {
    "id": "5a0151ee"
   },
   "source": [
    "### Antonyms"
   ]
  },
  {
   "cell_type": "code",
   "execution_count": 9,
   "id": "0534b394",
   "metadata": {
    "id": "0534b394",
    "outputId": "86e19036-a4e4-46cc-e4ea-14cf531c3d06"
   },
   "outputs": [
    {
     "data": {
      "text/plain": [
       "['unnatural', 'artificial', 'supernatural', 'sharp']"
      ]
     },
     "execution_count": 9,
     "metadata": {},
     "output_type": "execute_result"
    }
   ],
   "source": [
    "antonyms = []\n",
    "for words in wordnet.synsets(\"Natural\"):\n",
    "    for lemma in words.lemmas():\n",
    "        if lemma.antonyms():\n",
    "            antonyms.append(lemma.antonyms()[0].name())\n",
    "\n",
    "antonyms"
   ]
  },
  {
   "cell_type": "markdown",
   "id": "923ace29",
   "metadata": {
    "id": "923ace29"
   },
   "source": [
    "### Finding the similarity between words"
   ]
  },
  {
   "cell_type": "code",
   "execution_count": 10,
   "id": "b13fdfc4",
   "metadata": {
    "id": "b13fdfc4",
    "outputId": "6be3ca6b-eb17-4d67-d9fe-6945fb9d049f"
   },
   "outputs": [
    {
     "name": "stdout",
     "output_type": "stream",
     "text": [
      "0.9090909090909091\n"
     ]
    }
   ],
   "source": [
    "word1 = wordnet.synsets(\"ship\",'n')[0]\n",
    "word2 = wordnet.synsets(\"boat\",'n')[0]\n",
    "\n",
    "print(word1.wup_similarity(word2))"
   ]
  },
  {
   "cell_type": "code",
   "execution_count": 11,
   "id": "0edb640d",
   "metadata": {
    "id": "0edb640d",
    "outputId": "661d81c2-9c50-4a0d-96c4-ca2e9e1a5050"
   },
   "outputs": [
    {
     "name": "stdout",
     "output_type": "stream",
     "text": [
      "0.9090909090909091\n"
     ]
    }
   ],
   "source": [
    "print(word2.wup_similarity(word1))"
   ]
  }
 ],
 "metadata": {
  "colab": {
   "provenance": []
  },
  "kernelspec": {
   "display_name": "Python 3 (ipykernel)",
   "language": "python",
   "name": "python3"
  },
  "language_info": {
   "codemirror_mode": {
    "name": "ipython",
    "version": 3
   },
   "file_extension": ".py",
   "mimetype": "text/x-python",
   "name": "python",
   "nbconvert_exporter": "python",
   "pygments_lexer": "ipython3",
   "version": "3.11.4"
  }
 },
 "nbformat": 4,
 "nbformat_minor": 5
}
